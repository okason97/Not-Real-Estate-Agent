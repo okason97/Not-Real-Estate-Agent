{
 "cells": [
  {
   "cell_type": "code",
   "execution_count": 1,
   "id": "f40f8707",
   "metadata": {},
   "outputs": [
    {
     "name": "stdout",
     "output_type": "stream",
     "text": [
      "quiero un depto en la plata para una persona moderno con cochera\n",
      "Accessing webpage: https://www.zonaprop.com.ar/departamentos-alquiler-la-plata-1-habitacion-1-garage.html\n",
      "[{'id': '55835970', 'price': {'monthly_rent': '$ 583.000', 'maintenance_fee': '$ 80.000 Expensas', 'total_price': 663000, 'price_per_sqm': 14107}, 'location': {'address': '58 e/ 18 y Avenida 19', 'neighborhood': 'La Plata, La Plata'}, 'specifications': {'total_area_m2': 47, 'rooms': 2, 'bedrooms': 1, 'bathrooms': 1, 'parking_spaces': 1, 'floor_level': 'high'}, 'features': ['elevator', 'balcony', 'built_in_closet', 'equipped_kitchen', 'bright', 'spacious'], 'url': 'https://www.zonaprop.com.ar/propiedades/clasificado/alclapin-departamento-en-alquiler-1-dormitorio-1-bano-47-55835970.html', 'description': 'Sumamos facilidades de pago: Ahora podes abonar los honorarios del alquiler con tarjeta y en cuotas-Tarjetas de crédito visa o mastercard hasta en 3 cuotas sin interes -Tarjetas de debito en 1 pago sin interés_ Departamento de un dormitorio en alquiler ubicado sobre calle 58 entre 18 y Avenida 19 (La Plata, Buenos Aires). Desarrollado en piso alto por ascensor, con disposición frente y orientación al suroeste. _ El mismo posee cocina equipada con muebles sobre y bajo mesada, living comedor, un dormitorio con placard empotrado y un baño completo. Amplio y luminoso, cuenta con balcón. _ La propiedad tiene una superficie total de aproximadamente 47mts2 cubiertos. _ Cochera con capacidad para un vehículo. _ Las expensas al día 31/3/2025 son de aproximadamente $80. 000. Yacoub | Construimos ConfianzaInnovación | Calidad | Sustentabilidad | Diseño70 Mil Metros Cuadrados | 20 TorresLa información descripta en el presente aviso es meramente orientativa y no forma parte de ningún tipo de documentación contractual. Los datos enunciados fueron proporcionados por los propietarios y pueden arrojar inexactitudes, las superficies definitivas surgirán del título de propiedad del inmueble referido. Se deja constancia de que los valores y/o expensas pueden estar sujetas a verificación o ajuste. Lo que estás buscando lo tenemos | Estés Donde EstésVendemos en Todos Lados.', 'agency': ''}, {'id': '55835960', 'price': {'monthly_rent': '$ 750.000', 'maintenance_fee': '$ 30.000 Expensas', 'total_price': 780000, 'price_per_sqm': 17334}, 'location': {'address': 'Avenida 44 e/ 11 y 12', 'neighborhood': 'La Plata, La Plata'}, 'specifications': {'total_area_m2': 45, 'rooms': 2, 'bedrooms': 1, 'bathrooms': 1, 'parking_spaces': 1, 'floor_level': 'high'}, 'features': ['elevator', 'balcony', 'built_in_closet', 'equipped_kitchen', 'bright', 'spacious'], 'url': 'https://www.zonaprop.com.ar/propiedades/clasificado/alclapin-departamento-en-alquiler-1-dormitorio-1-bano-55835960.html', 'description': 'Sumamos facilidades de pago: Ahora podes abonar los honorarios del alquiler con tarjeta y en cuotas-Tarjetas de crédito visa o mastercard hasta en 3 cuotas sin interes -Tarjetas de debito en 1 pago sin interés_ Departamento de un dormitorio en alquiler ubicado sobre Avenida 44 entre 11 y 12 (La Plata, Buenos Aires). Desarrollado en piso alto por ascensor, con disposición contra frente y orientación al oeste. _ El mismo posee cocina equipada con muebles sobre y bajo mesada, living comedor, un dormitorio con placard empotrado y un baño completo. Amplio y luminoso, cuenta con balcón y equipo de aire acondicionado. El edificio cuenta con una amplia terraza compartida con juegos infantiles y parrilla. _ La propiedad tiene una superficie total de aproximadamente 45mts2, de los cuales 43mts2 con cubiertos. Yacoub | Construimos ConfianzaInnovación | Calidad | Sustentabilidad | Diseño70 Mil Metros Cuadrados | 20 TorresLa información descripta en el presente aviso es meramente orientativa y no forma parte de ningún tipo de documentación contractual. Los datos enunciados fueron proporcionados por los propietarios y pueden arrojar inexactitudes, las superficies definitivas surgirán del título de propiedad del inmueble referido. Se deja constancia de que los valores y/o expensas pueden estar sujetas a verificación o ajuste. Lo que estás buscando lo tenemos | Estés Donde EstésVendemos en Todos Lados.', 'agency': ''}, {'id': '56249581', 'price': {'monthly_rent': '$ 400.000', 'maintenance_fee': '$ 102.220 Expensas', 'total_price': 502220, 'price_per_sqm': 10918}, 'location': {'address': '43 al 500', 'neighborhood': 'La Plata, La Plata'}, 'specifications': {'total_area_m2': 46, 'rooms': 2, 'bedrooms': 1, 'bathrooms': 1, 'parking_spaces': 1}, 'features': ['elevator', 'balcony', 'bright', 'spacious'], 'url': 'https://www.zonaprop.com.ar/propiedades/clasificado/alclapin-departamento-de-1-dormitorio-c-cochera-56249581.html', 'description': '¡excelente departamento en alquiler! Ubicación: Calle 43 al 561 La Plata. Características Destacadas: Moderno y Luminoso: 2° piso frente. 1 Dormitorio Amplio: Con placar empotrado. Cocina: Equipamiento completa con muebles sobre y bajo mesada y cocina a gas natural. Living Comedor Espacioso: Con acceso a balcón, ideal para disfrutar del aire libre. Baño Completo: Equipado con bañera para tu comodidad. Seguridad y Confort: Calefacción: Por radiador. Cochera fija descubierta. Edificio con Ascensor: Facilita el acceso y la comodidad. Condiciones del Contrato: Duración: 2 años. Actualización: Cuatrimestral por icl (Índice de Contratos de Locación). no se aceptan mascotas. ¡No pierdas esta oportunidad única de vivir en un espacio moderno y confortable! Contáctanos para más información y agenda tu visita.', 'agency': ''}, {'id': '56178292', 'price': {'monthly_rent': '$ 450.000', 'maintenance_fee': '', 'total_price': 450000, 'price_per_sqm': 9575}, 'location': {'address': '9 e/ 60 y 61', 'neighborhood': 'La Plata, La Plata'}, 'specifications': {'total_area_m2': 47, 'rooms': 2, 'bedrooms': 1, 'bathrooms': 1, 'parking_spaces': 1}, 'features': ['built_in_closet', 'bright', 'spacious', 'laundry'], 'url': 'https://www.zonaprop.com.ar/propiedades/clasificado/alclapin-departamento-en-alquiler-un-dormitorio-con-cochera-la-56178292.html', 'description': 'Departamento en alquiler un dormitorio al contrafrente muy luminoso con amplio balcon. Cuenta con cocina separada con lavadero separado, living-comedor con amplio balcon, dormitorio con pisos de madera y placard y baño completa. Cuenta con calefactor tiro balanceado en living-comedor y dormitorio.', 'agency': ''}, {'id': '56193509', 'price': {'monthly_rent': '$ 500.000', 'maintenance_fee': '$ 60.000 Expensas', 'total_price': 560000, 'price_per_sqm': 13024}, 'location': {'address': 'calle 30 y 41', 'neighborhood': 'La Plata, La Plata'}, 'specifications': {'total_area_m2': 43, 'rooms': 3, 'bedrooms': 1, 'bathrooms': 1, 'parking_spaces': 1}, 'features': ['balcony', 'bright', 'spacious'], 'url': 'https://www.zonaprop.com.ar/propiedades/clasificado/alclapin-cantisano-propiedades-alquila-departamento-1-56193509.html', 'description': 'Cantisano Propiedades alquila departamento de 1 dormitorio con cochera cubierta en calle 30 esquina 41! Excelente zona de vía rápida, a una cuadra Av. 31, a tres de Av. 38 y a pocas de Parque Alberti. Hermoso edificio en esquina, muy luminoso, con sillones y decoración en hall de ingreso. El departamento está ubicado al frente. Cuenta con living comedor con cocina semi integrada con barra y salida al balcón. Habitación con placar empotrado muy amplio, y además con salida al balcón. Baño completo con bañera. Cuenta con cochera cubierta! Se ingresa por portón automatizado. Escribinos para coordinar una visita!', 'agency': ''}, {'id': '56070214', 'price': {'monthly_rent': '$ 500.000', 'maintenance_fee': '$ 65.000 Expensas', 'total_price': 565000, 'price_per_sqm': 13453}, 'location': {'address': '56 al 500', 'neighborhood': 'La Plata, La Plata'}, 'specifications': {'total_area_m2': 42, 'rooms': 2, 'bedrooms': 1, 'bathrooms': 1, 'parking_spaces': 1}, 'features': ['elevator', 'balcony', 'bright'], 'url': 'https://www.zonaprop.com.ar/propiedades/clasificado/alclapin-departamento-en-alquiler-1-dormitorio-c-cochera-56070214.html', 'description': '¡vive en el corazón de la ciudad! Excelente departamento en alquiler! Ubicado en la privilegiada calle 56 entre 6 y Av. 7, este moderno y luminoso departamento en el 2° piso es el hogar que estabas buscando. Características que te encantarán: - 1 Dormitorio con placar empotrado y aire acondicionado: ¡organiza tu espacio a tu manera! - Cocina Separada con barra desayunador: perfecta para disfrutar de tus desayunos y cenas. - Living Comedor con aire acondicionado: relájate y disfruta de la hermosa vista desde tu balcón. - Baño Completo moderno con bañera: comodidad y estilo en cada rincón. Confort y Seguridad: - Edificio con ascensor: ¡olvídate de las escaleras! Condiciones del Contrato: - Duración: 2 años con actualización trimestral por icl. - ¡Importante! No se aceptan mascotas. ¡No dejes pasar esta oportunidad única! Contáctanos ahora para más información y agenda tu visita. ¡Tu nuevo hogar te está esperando!', 'agency': ''}, {'id': '55811007', 'price': {'monthly_rent': '$ 500.000', 'maintenance_fee': '$ 80.000 Expensas', 'total_price': 580000, 'price_per_sqm': 11600}, 'location': {'address': '59 y 3', 'neighborhood': 'La Plata, La Plata'}, 'specifications': {'total_area_m2': 50, 'rooms': 2, 'bedrooms': 1, 'bathrooms': 1, 'parking_spaces': 1, 'floor_level': 'high'}, 'features': ['elevator', 'built_in_closet', 'equipped_kitchen', 'bright', 'spacious'], 'url': 'https://www.zonaprop.com.ar/propiedades/clasificado/alclapin-departamento-en-alquiler-1-dormitorio-1-bano-55811007.html', 'description': 'Sumamos facilidades de pago: Ahora podes abonar los honorarios del alquiler con tarjeta y en cuotas-Tarjetas de crédito visa o mastercard hasta en 3 cuotas sin interes -Tarjetas de debito en 1 pago sin interés_ Departamento de un dormitorio en alquiler ubicado sobre calle 59 y 3 (La Plata, Buenos Aires). Desarrollado en piso alto por ascensor, con disposición frente y orientación al norte. _ El mismo posee cocina equipada con muebles sobre y bajo mesada, living comedor, un dormitorio con placard empotrado y un baño completo. Amplio y luminoso, cuenta con equipo de aire acondicionado. _ Cochera con capacidad para un vehículo. _ La propiedad tiene una superficie total de aproximadamente 50mts2 cubiertos. Yacoub | Construimos ConfianzaInnovación | Calidad | Sustentabilidad | Diseño70 Mil Metros Cuadrados | 20 TorresLa información descripta en el presente aviso es meramente orientativa y no forma parte de ningún tipo de documentación contractual. Los datos enunciados fueron proporcionados por los propietarios y pueden arrojar inexactitudes, las superficies definitivas surgirán del título de propiedad del inmueble referido. Se deja constancia de que los valores y/o expensas pueden estar sujetas a verificación o ajuste. Lo que estás buscando lo tenemos | Estés Donde EstésVendemos en Todos Lados.', 'agency': ''}, {'id': '55930938', 'price': {'monthly_rent': '$ 350.000', 'maintenance_fee': '', 'total_price': 350000, 'price_per_sqm': 7000}, 'location': {'address': '511 e/ 27 y 28', 'neighborhood': 'Manuel B Gonnet, La Plata'}, 'specifications': {'total_area_m2': 50, 'rooms': 3, 'bedrooms': 1, 'bathrooms': 1, 'parking_spaces': 1}, 'features': ['balcony', 'built_in_closet', 'bright', 'spacious'], 'url': 'https://www.zonaprop.com.ar/propiedades/clasificado/alclapin-departamento-en-alquiler-1-dormitorio-1-bano-55930938.html', 'description': '_ Departamento de un dormitorio en alquiler ubicado sobre calle 511 entre 27 y 28 (La Plata, Buenos Aires) Desarrollado en primer piso por escalera con disposición al frente. _ El mismo posee cocina independiente con muebles bajo mesada, living comedor, un dormitorio con placard empotrado y un baño completo. Amplio y luminoso, cuenta con balcón. _ Cochera cubierta con capacidad para un vehículo. _ La propiedad cuenta con una superficie total aproximada de 50mts2 cubiertos. Yacoub | Construimos ConfianzaInnovación | Calidad | Sustentabilidad | Diseño70 Mil Metros Cuadrados | 20 TorresLa información descripta en el presente aviso es meramente orientativa y no forma parte de ningún tipo de documentación contractual. Los datos enunciados fueron proporcionados por los propietarios y pueden arrojar inexactitudes, las superficies definitivas surgirán del título de propiedad del inmueble referido. Se deja constancia de que los valores y/o expensas pueden estar sujetas a verificación o ajuste. Lo que estás buscando lo tenemos | Estés Donde EstésVendemos en Todos Lados.', 'agency': ''}, {'id': '56075924', 'price': {'monthly_rent': '$ 375.000', 'maintenance_fee': '', 'total_price': 375000, 'price_per_sqm': 2953}, 'location': {'address': '137 e/ 516 y 517', 'neighborhood': 'La Plata, GBA Sur'}, 'specifications': {'total_area_m2': 127, 'rooms': 2, 'bedrooms': 1, 'bathrooms': 1, 'parking_spaces': 3}, 'features': ['built_in_closet', 'equipped_kitchen', 'bright', 'spacious'], 'url': 'https://www.zonaprop.com.ar/propiedades/clasificado/alclapin-duplex-en-alquiler-2-dorm.-4-banos-1.250-m-sup2--56075924.html', 'description': 'Sumamos facilidades de pago: Ahora podes abonar los honorarios del alquiler con tarjeta y en cuotas-Tarjetas de crédito visa o mastercard hasta en 3 cuotas sin interes -Tarjetas de debito en 1 pago sin interés_ Dúplex de un dormitorio en alquiler ubicado sobre calle 137 entre 516 y 517 (San Carlos, La Plata, Buenos Aires). Desarrollado en dos plantas, con disposición frente y orientación al noreste. _ El mismo posee cocina equipada con muebles sobre y bajo mesada integrada al living comedor, un dormitorio con placard empotrado y un baño completo. Amplio y luminoso, comparte patio, terraza y un salón de usos múltiples. _ Cochera descubierta con capacidad para tres vehículos. _ La propiedad tiene una superficie total de aproximadamente 1. 250mts2, de los cuales 127mts2 son cubiertos. Yacoub | Construimos ConfianzaInnovación | Calidad | Sustentabilidad | Diseño70 Mil Metros Cuadrados | 20 TorresLa información descripta en el presente aviso es meramente orientativa y no forma parte de ningún tipo de documentación contractual. Los datos enunciados fueron proporcionados por los propietarios y pueden arrojar inexactitudes, las superficies definitivas surgirán del título de propiedad del inmueble referido. Se deja constancia de que los valores y/o expensas pueden estar sujetas a verificación o ajuste. Lo que estás buscando lo tenemos | Estés Donde EstésVendemos en Todos Lados.', 'agency': ''}, {'id': '54411531', 'price': {'monthly_rent': '$ 380.000', 'maintenance_fee': '$ 15.000 Expensas', 'total_price': 395000, 'price_per_sqm': 7900}, 'location': {'address': 'Cno Belgrano entre  y', 'neighborhood': 'Villa Elisa, La Plata'}, 'specifications': {'total_area_m2': 50, 'bedrooms': 1, 'bathrooms': 1, 'parking_spaces': 1}, 'url': 'https://www.zonaprop.com.ar/propiedades/clasificado/alclapin-departamento-en-alquiler-cno-belgrano-entre-325-y-426-54411531.html', 'description': 'Departamento tipo duplex interno. Ubicado en Cno Belgrano entre 425 y 426, Primer piso por escaleras. Entrada para auto, con portón automatizado, el departamento en planta baja living comedor con cocina integrada y toilette. En planta alta. Un dormitorio y baño completo.', 'agency': ''}, {'id': '53124319', 'price': {'monthly_rent': '$ 545.000', 'maintenance_fee': '$ 56.000 Expensas', 'total_price': 601000, 'price_per_sqm': 11130}, 'location': {'address': '24 1400. Entre 62 y 63', 'neighborhood': 'La Plata, GBA Sur'}, 'specifications': {'total_area_m2': 54, 'rooms': 2, 'bedrooms': 1, 'bathrooms': 1, 'parking_spaces': 1}, 'features': ['balcony', 'built_in_closet', 'bright', 'spacious', 'laundry'], 'url': 'https://www.zonaprop.com.ar/propiedades/clasificado/alclapin-dpto1-dorm-c-cochera-zona-24-y-62-53124319.html', 'description': 'Alquiler de Departamento 2 ambientes en Casco Urbano, La Plata. Departamento al frente, el mismo cuenta con amplio y luminoso estar comedor con balcón corrido, un dormitorio con placard, baño completo, cocina separada equipada con muebles bajo mesada y alacenas, lavadero y cochera semi cubierta. Excelente calidad y terminación, está equipado con dos equipos de aire acondicionado Split (frío/ Calor). Posee todos los servicios (agua, cloacas, asfalto, luz, gas, etc), cuenta con excelente iluminación y ventilación. Expensas $56. 000. - Presupuesto vivienda 24 meses. pagos sobre contratación: Primer mes de alquiler $545. 000. Gastos contratación y honorarios inmobiliaria $754. 000. valor canon locativo: Valor inicial $545. 000. - actualización trimestral por ipc. requisitos garantía: 1 garantía propietaria y 2 fiadores solidarios con recibos de sueldo (La Plata o Prov. De Bs. As. Acordes al valor a afianzar). Quien alquila debe acreditar ingresos, deberá presentar el recibo de sueldo o certificación de ingresos. Aviso legal: Toda la información suministrada y publicada queda sujeta a la verificación correspondiente por parte de los interesados y sus profesionales asesores, previo a realizar una operación. Las descripciones del inmueble, medidas, superficies, ya sean arquitectónicas o funcionales, fotos o características, valores de impuestos, expensas, servicios, etc, pueden contener alguna inexactitud y son meramente descriptivos. Los derechos de reproducción de las imágenes expuestas son de uso exclusivo de Baum Propiedades (Col. 7134/7602), queda prohibida su reproducción por cualquier otra persona. Venta supeditada al cumplimiento por parte del propietario de los requisitos de la resolución general Nº 2371 de la afip (pedido de coti). xintel(bmp-bmp-827)', 'agency': ''}, {'id': '55749815', 'price': {'monthly_rent': '$ 430.000', 'maintenance_fee': '$ 60.000 Expensas', 'total_price': 490000, 'price_per_sqm': 10889}, 'location': {'address': '34 entre 8 y 9.', 'neighborhood': 'La Plata, La Plata'}, 'specifications': {'total_area_m2': 45, 'rooms': 2, 'bedrooms': 1, 'parking_spaces': 1}, 'url': 'https://www.zonaprop.com.ar/propiedades/clasificado/alclapin-departamento-en-alquiler-la-plata.-55749815.html', 'description': 'Departamento ubicado en calle 34 n°670 entre 8 y 9, único departamento de planta baja, en la segunda torre, corazón de la manzana. Posee un dormitorio, living comedor, cocina integrada con barra desayunadora y muebles bajo y sobre mesada y conexión de lavarropas. Puerta ventana que comunica a la cochera/ patio propio. El dormitorio cuenta con placar y su interior, baño completo. Espacio de guardado. No acepta mascotas.', 'agency': ''}, {'id': '55197140', 'price': {'monthly_rent': '$ 410.000', 'maintenance_fee': '$ 60.000 Expensas', 'total_price': 470000, 'price_per_sqm': 9039}, 'location': {'address': '17 e/ 40 y 41', 'neighborhood': 'La Plata, GBA Sur'}, 'specifications': {'total_area_m2': 52, 'rooms': 2, 'bedrooms': 1, 'bathrooms': 1, 'parking_spaces': 1}, 'features': ['built_in_closet', 'spacious'], 'url': 'https://www.zonaprop.com.ar/propiedades/clasificado/alclapin-departamento-en-alquiler-la-plata-un-dormitorio-con-55197140.html', 'description': 'Departamento en alquiler de un dormitorio al frente. Cuenta con cocina separada, amplio living-comedor, dormitorio con placard, baño completo y cochera.', 'agency': ''}, {'id': '56169196', 'price': {'monthly_rent': '$ 600.000', 'maintenance_fee': '', 'total_price': 600000, 'price_per_sqm': 10910}, 'location': {'address': 'calle 39 entre 10 y 11 . Entre 10 y 11', 'neighborhood': 'La Plata, La Plata'}, 'specifications': {'total_area_m2': 55, 'rooms': 2, 'bedrooms': 1, 'bathrooms': 1, 'parking_spaces': 1}, 'features': ['balcony', 'built_in_closet', 'bright'], 'url': 'https://www.zonaprop.com.ar/propiedades/clasificado/alclapin-departamento-1-dormitorio.-calle-39-entre-10-y-11-56169196.html', 'description': 'Alquiler de Departamento 1 dormitorio y escritorio que puede ser domitorio para un niño. Departamento luminoso, con balcón, piso 11 al frente. Cochera cubierta. Cocina amplia. Habitación principal y 2do dormitorio para una cama con placard incorporado /o estudio. Artefactos de luz y cortinas rollers. Calefacción por radiadores. Exccelente zona. Cortinas rololersxintel(mbp-mbp-1674)', 'agency': ''}, {'id': '55584558', 'price': {'monthly_rent': '$ 380.000', 'maintenance_fee': '$ 33.500 Expensas', 'total_price': 413500, 'price_per_sqm': 7255}, 'location': {'address': '70 500. Entre 6 y 7', 'neighborhood': 'La Plata, GBA Sur'}, 'specifications': {'total_area_m2': 57, 'rooms': 2, 'bedrooms': 1, 'bathrooms': 1, 'parking_spaces': 1}, 'features': ['built_in_closet'], 'url': 'https://www.zonaprop.com.ar/propiedades/clasificado/alclapin-departamento-1-dorm-c-cochera-zona-70-y-6-55584558.html', 'description': 'Alquiler de Departamento 2 ambientes en casco urbano, La Plata. Departamento de un dormitorio con placard empotrado. Posee living comedor, cocina semi-integrada, con barra desayunadora y baño completo con ducha. Buena ventilación e iluminación. El mismo cuenta con cochera descubierta. Expensas $33. 500. actualización: cuatrimestral por ipc. requisitos garantía: 1 garantía propietaria y 2 fiadores solidarios con recibos de sueldo (La Plata o Prov. De Bs. As. Acordes al valor a afianzar). Quien alquila debe acreditar ingresos, deberá presentar el recibo de sueldo o certificación de ingresos. Aviso legal: Toda la información suministrada y publicada queda sujeta a la verificación correspondiente por parte de los interesados y sus profesionales asesores, previo a realizar una operación. Las descripciones del inmueble, medidas, superficies, ya sean arquitectónicas o funcionales, fotos o características, valores de impuestos, expensas, servicios, etc, pueden contener alguna inexactitud y son meramente descriptivos. Los derechos de reproducción de las imágenes expuestas son de uso exclusivo de Baum Propiedades, queda prohibida su reproducción por cualquier otra persona. Aviso legal: Toda la información suministrada y publicada queda sujeta a la verificación correspondiente por parte de los interesados y sus profesionales asesores, previo a realizar una operación. Las descripciones del inmueble, medidas, superficies, ya sean arquitectónicas o funcionales, fotos o características, valores de impuestos, expensas, servicios, etc, pueden contener alguna inexactitud y son meramente descriptivos. Los derechos de reproducción de las imágenes expuestas son de uso exclusivo de Baum Propiedades (Col. 7134/7602), queda prohibida su reproducción por cualquier otra persona. Venta supeditada al cumplimiento por parte del propietario de los requisitos de la resolución general Nº 2371 de la afip (pedido de coti). xintel(bmp-bmp-893)', 'agency': ''}, {'id': '56254877', 'price': {'monthly_rent': '$ 400.000', 'maintenance_fee': '', 'total_price': 400000, 'price_per_sqm': 5715}, 'location': {'address': 'Calle 135 Entre 33 y 34', 'neighborhood': 'La Plata, GBA Sur'}, 'specifications': {'total_area_m2': 70, 'rooms': 2, 'bedrooms': 1, 'bathrooms': 1, 'parking_spaces': 1}, 'url': 'https://www.zonaprop.com.ar/propiedades/clasificado/alclapin-departamento-de-una-habitacion-en-alquiler-calle-135-56254877.html', 'description': 'A L Q U I L E R P E R M A N E N T E 135 entre 33 y 34 - departamento tipo casita en alquiler • $400. 000. - • Antigüedad 2 años • No paga expensas • Living comedor • Cocina integrada • 1 dormitorio • Baño con bañera • Patio con parrilla • Cochera descubierta', 'agency': ''}, {'id': '53138128', 'price': {'monthly_rent': '$ 620.000', 'maintenance_fee': '', 'total_price': 620000, 'price_per_sqm': 8379}, 'location': {'address': 'Calle 39 e/ 8 y 9', 'neighborhood': 'La Plata, GBA Sur'}, 'specifications': {'total_area_m2': 74, 'rooms': 2, 'bedrooms': 1, 'bathrooms': 1, 'parking_spaces': 1}, 'features': ['balcony', 'built_in_closet', 'spacious'], 'url': 'https://www.zonaprop.com.ar/propiedades/clasificado/alclapin-alquiler-1-dormitorio-amoblado-53138128.html', 'description': 'Alquiler de departamento de un dormitorio - amoblado. disponible A partir del mes de junio. Departamento al frente, muy amplio, balcón con deck, moderno diseño, cochera cubierta. 1 dormitorio con placard, baño completo con bañera, Living-comedor, cocina con muebles sobre y bajo mesada, lavadero incorporado. Contrato mínimo de 3 meses. xintel(mbp-mbp-1336)', 'agency': ''}, {'id': '55943515', 'price': {'monthly_rent': '$ 470.000', 'maintenance_fee': '', 'total_price': 470000, 'price_per_sqm': 9400}, 'location': {'address': '11 e/ 59 y 60', 'neighborhood': 'La Plata, GBA Sur'}, 'specifications': {'total_area_m2': 50, 'rooms': 2, 'bedrooms': 1, 'bathrooms': 1, 'parking_spaces': 1}, 'features': ['balcony', 'built_in_closet'], 'url': 'https://www.zonaprop.com.ar/propiedades/clasificado/alclapin-departamento-1-dormitorio-y-cochera-la-plata-55943515.html', 'description': 'Departamento en alquiler de un dormitorio La Plata. Cuenta con cocina separada con conexión para lavarropas, living-comedor con balcón y calefactor tiro balanceado, dormitorio con placard y calefactor tiro balanceado, baño completo.', 'agency': ''}, {'id': '56196948', 'price': {'monthly_rent': '$ 600.000', 'maintenance_fee': '$ 77.000 Expensas', 'total_price': 677000, 'price_per_sqm': 14718}, 'location': {'address': '12 Entre 42 y 43 al 500', 'neighborhood': 'La Plata, La Plata'}, 'specifications': {'total_area_m2': 46, 'rooms': 2, 'bedrooms': 1, 'bathrooms': 1, 'parking_spaces': 1}, 'url': 'https://www.zonaprop.com.ar/propiedades/clasificado/alclapin-departamento-en-la-plata-en-alquiler-56196948.html', 'description': 'Departamento a estrenar en alquiler ubicado en un 5to piso al frente. Cuenta con cocina integrada, un dormitorio y un baño. Cochera descubierta, radiadores y doble vidrio. Corredor interviniente: Juan del Grosso Satocmcplp 7313La tasación, intermediación y la conclusión de las operaciones sobre esta propiedad son actividades exclusivas de este corredor matriculado, conforme lasprevisiones de la ley 20. 266, la ley provincial 10. 973 y sus modif. Y las normas reglamentarias dictadas por los colegios departamentales. Las oficinas asociadas a la red Keller Williams actúan en forma independiente, brindando servicios a corredores, agentes y al público en general, y su intervención se limita a la prestación de servicios inmobiliarios que no incluyen actos de corretaje ni intermediación inmobiliaria. Cada oficina opera de forma independiente', 'agency': ''}, {'id': '55913317', 'price': {'monthly_rent': '$ 450.000', 'maintenance_fee': '$ 55.000 Expensas', 'total_price': 505000, 'price_per_sqm': 9182}, 'location': {'address': '25 e/ 35 y 36 Piso 1 Dpto B n 181', 'neighborhood': 'La Plata, La Plata'}, 'specifications': {'total_area_m2': 55, 'rooms': 2, 'bedrooms': 1, 'bathrooms': 1, 'parking_spaces': 1}, 'features': ['balcony', 'laundry'], 'url': 'https://www.zonaprop.com.ar/propiedades/clasificado/alclapin-departamento-en-alquiler-en-la-plata-55913317.html', 'description': 'Departamento de 1 dormitorio living comedor, cocina y lavadero separado. Balcón y cochera descubierta.', 'agency': ''}, {'id': '56168836', 'price': {'monthly_rent': '$ 450.000', 'maintenance_fee': '$ 80.000 Expensas', 'total_price': 530000, 'price_per_sqm': 11042}, 'location': {'address': '1 e/ 58 y 59  n 1267 Piso 4 Dto A', 'neighborhood': 'La Plata, La Plata'}, 'specifications': {'total_area_m2': 48, 'rooms': 2, 'bedrooms': 1, 'bathrooms': 1, 'parking_spaces': 1}, 'features': ['balcony', 'built_in_closet'], 'url': 'https://www.zonaprop.com.ar/propiedades/clasificado/alclapin-departamento-en-alquiler-la-plata-dacal-bienes-56168836.html', 'description': 'Departamento en alquiler. 1 dormitorio con placard, cocina con conexión para lavarropas, living-comedor con estufa, baño, balcón al frente y cochera descubierta.', 'agency': ''}, {'id': '56225862', 'price': {'monthly_rent': '$ 720.000', 'maintenance_fee': '$ 79.000 Expensas', 'total_price': 799000, 'price_per_sqm': 10946}, 'location': {'address': 'Avenida 13 y Calle 34', 'neighborhood': 'La Plata, La Plata'}, 'specifications': {'total_area_m2': 73, 'rooms': 3, 'bedrooms': 1, 'bathrooms': 1, 'parking_spaces': 1, 'floor_level': 'high'}, 'features': ['balcony', 'built_in_closet', 'bright', 'spacious'], 'url': 'https://www.zonaprop.com.ar/propiedades/clasificado/alclapin-departamento-en-barrio-norte-56225862.html', 'description': 'Alquiler de departamento 1 dormitorio con cochera. Ubicado en Av. 13 y 34, este espectacular departamento desarrollado en piso alto ofrece vistas impresionantesy comodidad en cada rincón. Amplio living-comedor con acceso a un balcón generoso, perfecto para disfrutar de la vista. Cocina semi integrada con barra desayunadora y muebles de alta calidad, iluminada conmodernas luces led. 1 dormitorio con placard con radiador. Baño completo con bañera y muebles de guardado. Características destacadas: Calefacción por radiadores y preinstalación para aire acondicionado. Ambientes luminosos y espaciosos. Carpintería de aluminio con vidrio dvh, garantizando confort y eficiencia energética. ¡No dejes pasar esta oportunidad! Contáctanos para más información y agendar tu visita.', 'agency': ''}, {'id': '56215055', 'price': {'monthly_rent': '$ 600.000', 'maintenance_fee': '$ 74.000 Expensas', 'total_price': 674000, 'price_per_sqm': 12717}, 'location': {'address': '16  600 3°', 'neighborhood': 'La Plata, La Plata'}, 'specifications': {'total_area_m2': 53, 'rooms': 2, 'bedrooms': 1, 'bathrooms': 1, 'parking_spaces': 1}, 'features': ['balcony', 'built_in_closet', 'spacious'], 'url': 'https://www.zonaprop.com.ar/propiedades/clasificado/alclapin-alquiler-16-e-45-y-46-1-dormitorio-con-cochera-56215055.html', 'description': '#Alquiler #LaPlata #VivirMejor. Calle 16 e/ 45 y 46 ¡Categoría! Departamento ubicado en un 3er piso al frente con balcón y cochera cubierta. -Amplio living comedor, con cortinas bandas verticales, equipo de Aire Acondicionado Frio / Calor, calefactor tiro balanceado y salida a balcón corrido. -Cocina separada, equipada con bajo y sobre mesada. Extractor de aire de acero inoxidable. Ventilación natural. -Dormitorio con placard con frente e interiores. Pisos flotantes simil madera. Cortinas roller black out y calefactor tiro balanceado. -Baño completo. -Luminarias colocadas en todos los ambientes. -Cochera cubierta con acceso por portón automatizado. Amenities: En azotea posee laundry, parrilla, cocina y toilette de uso común. Edificio con videocámaras de seguridad. Excelentes detalles de categoría, diseño y terminación. *no se permiten mascotas* Expensas $74. 000 (incluye Absa) *visitas disponibles A partir del 1/06* Servicios: Electricidad, Pavimento, Cloacas, Gas, Teléfono, Agua Corriente, Videocable. Otros Servicios: Terraza, Balcón. **Para coordinar visitas solo por Wapp** requisitos. Opción A: 1 garantía Propietaria Prov. Bs As 2 recibos de sueldo (garantes e inquilinos) Opción B: 4 Recibos de sueldo (garantes e inquilinos) #VivirMejor', 'agency': ''}, {'id': '55769393', 'price': {'monthly_rent': '$ 450.000', 'maintenance_fee': '$ 70.000 Expensas', 'total_price': 520000, 'price_per_sqm': 11556}, 'location': {'address': '62 334', 'neighborhood': 'La Plata, La Plata'}, 'specifications': {'total_area_m2': 45, 'rooms': 2, 'bedrooms': 1, 'bathrooms': 1, 'parking_spaces': 1}, 'features': ['elevator', 'balcony', 'built_in_closet', 'spacious', 'laundry'], 'url': 'https://www.zonaprop.com.ar/propiedades/clasificado/alclapin-departamento-1-dormitorio-en-alquiler-cochera-62-55769393.html', 'description': 'Moderno y funcional departamento al contrafrente con cochera opcional en Zona residencial. Actualmente Disponible. Consulte más detalles. Caracteristicas principales. Dormitorios: 1 Amplio c/placard. Baños: 1 Completo. - Lavadero: Integrado al Cocina. Cocina: C/bajo mesada y Barra pasaplatos. Living: Amplio c/salida al Balcón. Comedor: 1 Integrado a Living. Balcon: 1 Al Cfte. Ventanas: Aluminio negro corredizas 1º calidad. Información complementaria. Antigüedad: 10 años. Expensas: $Ver datos Aprox. (Incluyen absa) Orientación: Sureste. Superficie cubierta: 48 m2. Impuesto Municipal: $14000 Bimestral aprox. Agua caliente: Cisterna central de agua caliente. Calefacción: Estufa a gas de tiro balanceado en Dormitorio. Tipo de piso: Cerámicos. Caracteristicas del Edificio. Cantidad de pisos: 5. Escaleras contra incendio: Si. Cochera: 1 Si - Descubierta p/un Automovil + Moto. Servicios centrales: Un cuerpo de ascensores. • Portón de Cocheras automatizado.'}, {'id': '55422742', 'price': {'monthly_rent': '$ 450.000', 'maintenance_fee': '$ 50.000 Expensas', 'total_price': 500000, 'price_per_sqm': 9091}, 'location': {'address': '25 1119', 'neighborhood': 'La Plata, La Plata'}, 'specifications': {'total_area_m2': 55, 'rooms': 2, 'bedrooms': 1, 'parking_spaces': 1}, 'features': ['balcony'], 'url': 'https://www.zonaprop.com.ar/propiedades/clasificado/alclapin-alquiler-de-departamento-2-ambientes-la-plata-55422742.html', 'description': 'Alquiler de departamento tipo dúplex con cochera. En la planta baja tiene cocina comedor y toilette. En planta alta dormitorio con placar y balcón con baño completo. Muy buenos accesos a las universidades y a media cuadra de parque Vucetich. Departamento tipo duplex ubicado sobre Calle 25 e 55 y 56. Ingreso por living comedor con cocina integrada, y toilette. En planta alta, baño completo y un 1 dormitorio con balcón. Cuenta con cochera descubierta.', 'agency': ''}, {'id': '55745895', 'price': {'monthly_rent': '$ 500.000', 'maintenance_fee': '$ 30.000 Expensas', 'total_price': 530000, 'price_per_sqm': 8154}, 'location': {'address': 'Calle 48 n 1391', 'neighborhood': 'La Plata, La Plata'}, 'specifications': {'total_area_m2': 65, 'rooms': 3, 'bedrooms': 1, 'bathrooms': 1, 'parking_spaces': 1}, 'features': ['balcony', 'bright', 'spacious', 'laundry'], 'url': 'https://www.zonaprop.com.ar/propiedades/clasificado/alclappa-semipiso-cochera-luminoso.-52-m-sup2-.-48-e-22-y-55745895.html', 'description': 'Oportunidad, Departamento moderno y muy luminoso con cochera, amplios ambientes, muy buena ventilación. Funcional y muy adaptable, pisos en madera maciza en habitaciones, amplios placares, hermosas vistas desde cualquiera de las 4 ventanas. Un dormitorio principal + un escritorio/dormitorio chico ideal Home Office. Balcón hacia calle 48. Lavadero separado físicamente de cocina. Muy buena ubicación. Piso 3 por escalera. Expensas $ 15. 000. Contacto Marisa: whatsapp de 9 a 16 hs. Importante: El edificio tiene 7 departamentos en total, solo dos departamentos por piso. No se admiten mascotas.'}, {'id': '55257565', 'price': {'monthly_rent': '$ 400.000', 'maintenance_fee': '$ 105.000 Expensas', 'total_price': 505000, 'price_per_sqm': 10100}, 'location': {'address': '60 e/ 9 y 10', 'neighborhood': 'La Plata, La Plata'}, 'specifications': {'total_area_m2': 50, 'rooms': 2, 'bedrooms': 1, 'bathrooms': 1, 'parking_spaces': 1}, 'features': ['balcony', 'built_in_closet'], 'url': 'https://www.zonaprop.com.ar/propiedades/clasificado/alclapin-departamento-en-alquiler-un-dormitorio-con-cochera-la-55257565.html', 'description': 'Departamento en alquiler de un dormitorio La Plata. Cuenta con cocina separada con conexión para lavarropas, living-comedor con balcón y calefactor tiro balanceado, dormitorio con placard y calefactor tiro balanceado, baño completo.', 'agency': ''}, {'id': '56089511', 'price': {'monthly_rent': '$ 470.000', 'maintenance_fee': '$ 92.000 Expensas', 'total_price': 562000, 'price_per_sqm': 10408}, 'location': {'address': '25 e/ 42 y 43 n 540 2B', 'neighborhood': 'La Plata, La Plata'}, 'specifications': {'total_area_m2': 54, 'rooms': 2, 'bedrooms': 1, 'bathrooms': 1, 'parking_spaces': 1}, 'features': ['balcony', 'built_in_closet', 'laundry'], 'url': 'https://www.zonaprop.com.ar/propiedades/clasificado/alclapin-departamento-en-alquiler-en-la-plata-56089511.html', 'description': 'Departamento en alquiler al frente de 1 dormitorio con placard, cocina, living-comedor, baño, balcón y calefacción por radiadores. Cochera descubierta', 'agency': ''}, {'id': '56003576', 'price': {'monthly_rent': '$ 550.000', 'maintenance_fee': '', 'total_price': 550000, 'price_per_sqm': 10000}, 'location': {'address': '56 e 17 y 18', 'neighborhood': 'La Plata, La Plata'}, 'specifications': {'total_area_m2': 55, 'rooms': 2, 'bedrooms': 1, 'bathrooms': 1, 'parking_spaces': 1}, 'features': ['built_in_closet', 'spacious'], 'url': 'https://www.zonaprop.com.ar/propiedades/clasificado/alclapin-departamento-en-la-plata-56003576.html', 'description': 'Departamento de un dormitorio muy amplio ubicado a pocas cuadras de plaza moreno, en el corazon de la ciudad de la plata. Cercania a multiples negocios y facilidades de transporte publico cercano. Se ubica en un 3er piso al contrafrente, lo que le brinda una vista privilegiada desde la cual se ve la hermosa catedral de la plata. Cuenta con un living comedor con piso de porcelanato, un amplio balcon, una habitacion con placard empotrado, cocina con barra o doble mesada, un baño completo y cochera. Excelente calidad constructiva, cuenta con radiadores tanto en el living comedor como en la habitacion.', 'agency': ''}, {'id': '54773799', 'price': {'monthly_rent': '$ 650.000', 'maintenance_fee': '', 'total_price': 650000, 'price_per_sqm': 13000}, 'location': {'address': 'Departamento Amueblado en Alquiler', 'neighborhood': 'La Plata, La Plata'}, 'specifications': {'total_area_m2': 50, 'rooms': 2, 'bedrooms': 1, 'bathrooms': 1, 'parking_spaces': 1}, 'features': ['bright'], 'url': 'https://www.zonaprop.com.ar/propiedades/clasificado/alclapin-departamento-en-alquiler-temporal-54773799.html', 'description': 'Departamento en Alquiler Temporario Ubicado en Diagonal 76 y 18 de la cuidad de La Plata. A metros de la plaza Azcuénaga. Dicho departamento se encuentra en planta baja y esta completamente amueblado para brindarte comodidad y practicidad durante tu estadía. El mismo cuenta con ambientes luminosos, cocina totalmente equipada, un dormitorio confortable, un living comedor luminoso con salida al patio y todas las comodidades necesarias para una estancia agradable. Perfecto para periodos cortos o medianos, ya sea por descanso, trabajo o estudioIncluye: Heladera, cocina, microondas, lavarropas, aire acondicionado, televisor, entre otros. No Incluye Servicios. Consulta disponibilidad!', 'agency': ''}]\n"
     ]
    }
   ],
   "source": [
    "from langchain_core.messages import HumanMessage\n",
    "from app.src.graph import build_scrape_graph, build_scrape_graphv2, build_url_graph, build_graph, build_analize_graph\n",
    "\n",
    "graph = build_scrape_graphv2(model='ollama', temperature=0.0)\n",
    "\n",
    "#user_input = input(\"Enter a message: \")\n",
    "user_input = \"quiero un depto en la plata para una persona moderno con cochera\"\n",
    "print(user_input)\n",
    "state = graph.invoke({\"query\": [HumanMessage(content=user_input)]})\n",
    "\n",
    "print(state[\"properties\"])"
   ]
  },
  {
   "cell_type": "code",
   "execution_count": 3,
   "id": "c32e4279",
   "metadata": {},
   "outputs": [],
   "source": [
    "import json\n",
    "json.dumps(state[\"properties\"], indent=2, ensure_ascii=False)\n",
    "\n",
    "with open(\"properties.json\", 'w') as file:\n",
    "    json.dump(state[\"properties\"], file, indent=4)"
   ]
  },
  {
   "cell_type": "code",
   "execution_count": 3,
   "id": "bd1f72fc",
   "metadata": {},
   "outputs": [
    {
     "ename": "KeyboardInterrupt",
     "evalue": "Interrupted by user",
     "output_type": "error",
     "traceback": [
      "\u001b[31m---------------------------------------------------------------------------\u001b[39m",
      "\u001b[31mKeyboardInterrupt\u001b[39m                         Traceback (most recent call last)",
      "\u001b[36mCell\u001b[39m\u001b[36m \u001b[39m\u001b[32mIn[3]\u001b[39m\u001b[32m, line 6\u001b[39m\n\u001b[32m      2\u001b[39m \u001b[38;5;28;01mfrom\u001b[39;00m\u001b[38;5;250m \u001b[39m\u001b[34;01msrc\u001b[39;00m\u001b[34;01m.\u001b[39;00m\u001b[34;01mgraph\u001b[39;00m\u001b[38;5;250m \u001b[39m\u001b[38;5;28;01mimport\u001b[39;00m build_graph\n\u001b[32m      4\u001b[39m graph = build_graph(model=\u001b[33m'\u001b[39m\u001b[33mollama\u001b[39m\u001b[33m'\u001b[39m, temperature=\u001b[32m0.0\u001b[39m)\n\u001b[32m----> \u001b[39m\u001b[32m6\u001b[39m user_input = \u001b[38;5;28;43minput\u001b[39;49m\u001b[43m(\u001b[49m\u001b[33;43m\"\u001b[39;49m\u001b[33;43mEnter a message: \u001b[39;49m\u001b[33;43m\"\u001b[39;49m\u001b[43m)\u001b[49m\n\u001b[32m      7\u001b[39m \u001b[38;5;28mprint\u001b[39m(user_input)\n\u001b[32m      8\u001b[39m state = graph.invoke({\u001b[33m\"\u001b[39m\u001b[33mquery\u001b[39m\u001b[33m\"\u001b[39m: [HumanMessage(content=user_input)]})\n",
      "\u001b[36mFile \u001b[39m\u001b[32mc:\\Users\\okaso\\OneDrive\\Escritorio\\Proyectos\\Not-Real-Estate-Agent\\.venv\\Lib\\site-packages\\ipykernel\\kernelbase.py:1282\u001b[39m, in \u001b[36mKernel.raw_input\u001b[39m\u001b[34m(self, prompt)\u001b[39m\n\u001b[32m   1280\u001b[39m     msg = \u001b[33m\"\u001b[39m\u001b[33mraw_input was called, but this frontend does not support input requests.\u001b[39m\u001b[33m\"\u001b[39m\n\u001b[32m   1281\u001b[39m     \u001b[38;5;28;01mraise\u001b[39;00m StdinNotImplementedError(msg)\n\u001b[32m-> \u001b[39m\u001b[32m1282\u001b[39m \u001b[38;5;28;01mreturn\u001b[39;00m \u001b[38;5;28;43mself\u001b[39;49m\u001b[43m.\u001b[49m\u001b[43m_input_request\u001b[49m\u001b[43m(\u001b[49m\n\u001b[32m   1283\u001b[39m \u001b[43m    \u001b[49m\u001b[38;5;28;43mstr\u001b[39;49m\u001b[43m(\u001b[49m\u001b[43mprompt\u001b[49m\u001b[43m)\u001b[49m\u001b[43m,\u001b[49m\n\u001b[32m   1284\u001b[39m \u001b[43m    \u001b[49m\u001b[38;5;28;43mself\u001b[39;49m\u001b[43m.\u001b[49m\u001b[43m_parent_ident\u001b[49m\u001b[43m[\u001b[49m\u001b[33;43m\"\u001b[39;49m\u001b[33;43mshell\u001b[39;49m\u001b[33;43m\"\u001b[39;49m\u001b[43m]\u001b[49m\u001b[43m,\u001b[49m\n\u001b[32m   1285\u001b[39m \u001b[43m    \u001b[49m\u001b[38;5;28;43mself\u001b[39;49m\u001b[43m.\u001b[49m\u001b[43mget_parent\u001b[49m\u001b[43m(\u001b[49m\u001b[33;43m\"\u001b[39;49m\u001b[33;43mshell\u001b[39;49m\u001b[33;43m\"\u001b[39;49m\u001b[43m)\u001b[49m\u001b[43m,\u001b[49m\n\u001b[32m   1286\u001b[39m \u001b[43m    \u001b[49m\u001b[43mpassword\u001b[49m\u001b[43m=\u001b[49m\u001b[38;5;28;43;01mFalse\u001b[39;49;00m\u001b[43m,\u001b[49m\n\u001b[32m   1287\u001b[39m \u001b[43m\u001b[49m\u001b[43m)\u001b[49m\n",
      "\u001b[36mFile \u001b[39m\u001b[32mc:\\Users\\okaso\\OneDrive\\Escritorio\\Proyectos\\Not-Real-Estate-Agent\\.venv\\Lib\\site-packages\\ipykernel\\kernelbase.py:1325\u001b[39m, in \u001b[36mKernel._input_request\u001b[39m\u001b[34m(self, prompt, ident, parent, password)\u001b[39m\n\u001b[32m   1322\u001b[39m \u001b[38;5;28;01mexcept\u001b[39;00m \u001b[38;5;167;01mKeyboardInterrupt\u001b[39;00m:\n\u001b[32m   1323\u001b[39m     \u001b[38;5;66;03m# re-raise KeyboardInterrupt, to truncate traceback\u001b[39;00m\n\u001b[32m   1324\u001b[39m     msg = \u001b[33m\"\u001b[39m\u001b[33mInterrupted by user\u001b[39m\u001b[33m\"\u001b[39m\n\u001b[32m-> \u001b[39m\u001b[32m1325\u001b[39m     \u001b[38;5;28;01mraise\u001b[39;00m \u001b[38;5;167;01mKeyboardInterrupt\u001b[39;00m(msg) \u001b[38;5;28;01mfrom\u001b[39;00m\u001b[38;5;250m \u001b[39m\u001b[38;5;28;01mNone\u001b[39;00m\n\u001b[32m   1326\u001b[39m \u001b[38;5;28;01mexcept\u001b[39;00m \u001b[38;5;167;01mException\u001b[39;00m:\n\u001b[32m   1327\u001b[39m     \u001b[38;5;28mself\u001b[39m.log.warning(\u001b[33m\"\u001b[39m\u001b[33mInvalid Message:\u001b[39m\u001b[33m\"\u001b[39m, exc_info=\u001b[38;5;28;01mTrue\u001b[39;00m)\n",
      "\u001b[31mKeyboardInterrupt\u001b[39m: Interrupted by user"
     ]
    }
   ],
   "source": [
    "from langchain_core.messages import HumanMessage\n",
    "from src.graph import build_graph\n",
    "\n",
    "graph = build_graph(model='ollama', temperature=0.0)\n",
    "\n",
    "user_input = input(\"Enter a message: \")\n",
    "print(user_input)\n",
    "state = graph.invoke({\"query\": [HumanMessage(content=user_input)]})\n",
    "\n",
    "print(state[\"query\"][-1].content)"
   ]
  },
  {
   "cell_type": "code",
   "execution_count": null,
   "id": "b1e01d42",
   "metadata": {},
   "outputs": [],
   "source": [
    "from typing import Annotated\n",
    "from typing_extensions import TypedDict\n",
    "from langgraph.graph import StateGraph, START, END\n",
    "from langchain_community.chat_models import ChatOllama\n",
    "from langgraph.graph.message import add_messages\n",
    "from langchain.chat_models import init_chat_model\n",
    "from dotenv import load_dotenv\n",
    "from pydantic import BaseModel, Field\n",
    "from pydantic.networks import AnyUrl\n",
    "from langchain_core.messages import HumanMessage\n"
   ]
  },
  {
   "cell_type": "code",
   "execution_count": 3,
   "id": "9b85dbcf",
   "metadata": {},
   "outputs": [
    {
     "name": "stdout",
     "output_type": "stream",
     "text": [
      "<think>\n",
      "\n",
      "</think>\n",
      "\n",
      "Hello! How can I assist you today? 😊\n"
     ]
    }
   ],
   "source": [
    "load_dotenv()\n",
    "\n",
    "llm = init_chat_model(\"ollama:deepseek-r1:latest\")\n",
    "\n",
    "\n",
    "class State(TypedDict):\n",
    "    # Messages have the type \"list\". The `add_messages` function\n",
    "    # in the annotation defines how this state key should be updated\n",
    "    # (in this case, it appends messages to the list, rather than overwriting them)\n",
    "    messages: Annotated[list, add_messages]\n",
    "\n",
    "\n",
    "graph_builder = StateGraph(State)\n",
    "\n",
    "\n",
    "def chatbot(state: State):\n",
    "    return {\"messages\": [llm.invoke(state[\"messages\"])]}\n",
    "\n",
    "\n",
    "# The first argument is the unique node name\n",
    "# The second argument is the function or object that will be called whenever\n",
    "# the node is used.\n",
    "graph_builder.add_node(\"chatbot\", chatbot)\n",
    "graph_builder.add_edge(START, \"chatbot\")\n",
    "graph_builder.add_edge(\"chatbot\", END)\n",
    "\n",
    "\n",
    "graph = graph_builder.compile()\n",
    "\n",
    "user_input = input(\"Enter a message: \")\n",
    "state = graph.invoke({\"messages\": [{\"role\": \"user\", \"content\": user_input}]})\n",
    "\n",
    "print(state[\"messages\"][-1].content)"
   ]
  },
  {
   "cell_type": "code",
   "execution_count": 4,
   "id": "2395d24b",
   "metadata": {},
   "outputs": [
    {
     "data": {
      "image/png": "[encoded data removed]",
      "text/plain": [
       "<IPython.core.display.Image object>"
      ]
     },
     "metadata": {},
     "output_type": "display_data"
    }
   ],
   "source": [
    "from IPython.display import Image, display\n",
    "\n",
    "try:\n",
    "    display(Image(graph.get_graph().draw_mermaid_png()))\n",
    "except Exception:\n",
    "    # This requires some extra dependencies and is optional\n",
    "    pass"
   ]
  },
  {
   "cell_type": "code",
   "execution_count": 2,
   "id": "62aaa796",
   "metadata": {},
   "outputs": [
    {
     "name": "stdout",
     "output_type": "stream",
     "text": [
      "https://www.zonaprop.com.ar/departamentos-alquiler-la-plata-desde-3-ambientes-1-habitacion.html\n"
     ]
    }
   ],
   "source": [
    "load_dotenv()\n",
    "\n",
    "llm = init_chat_model(\"ollama:gemma3:12b\")\n",
    "\n",
    "class MessageURL(BaseModel):\n",
    "    url: AnyUrl = Field(description=\"A functional ZonaProp URL based on the user's real estate query\")\n",
    "\n",
    "class State(TypedDict):\n",
    "    # Messages have the type \"list\". The `add_messages` function\n",
    "    # in the annotation defines how this state key should be updated\n",
    "    # (in this case, it appends messages to the list, rather than overwriting them)\n",
    "    query: Annotated[list, add_messages]\n",
    "    url: AnyUrl | None\n",
    "\n",
    "graph_builder = StateGraph(State)\n",
    "\n",
    "\n",
    "def url_agent(state: State):\n",
    "    \"\"\"Create a URL from the query.\n",
    "    \"\"\"\n",
    "    last_message = state[\"query\"][-1]\n",
    "    url_llm = llm.with_structured_output(MessageURL)\n",
    "\n",
    "    result = url_llm.invoke([\n",
    "        {\n",
    "            \"role\": \"system\",\n",
    "            \"content\": f\"\"\"\n",
    "                You are an assistant that generates ZonaProp property listing URLs based on the user's message.\n",
    "\n",
    "                ## ZonaProp URL Format\n",
    "                Base structure:\n",
    "                https://www.zonaprop.com.ar/[property-type]-[operation]-[location]-[additional-filters].html\n",
    "\n",
    "                ### Required Components (must always be included):\n",
    "                1. **Property Type**\n",
    "                - departamentos (apartments)\n",
    "                - casas (houses)\n",
    "                - ph (Horizontal Property)\n",
    "                - cocheras (parking)\n",
    "                - terrenos (land)\n",
    "                - oficinas (offices)\n",
    "                - locales (commercial)\n",
    "                - Combined types: e.g., casas-departamentos-ph\n",
    "\n",
    "                2. **Operation**\n",
    "                - venta (sale)\n",
    "                - alquiler (rent)\n",
    "                - alquiler-temporal (temporary rental)\n",
    "\n",
    "                3. **Location**\n",
    "                - Examples: capital-federal, palermo, la-plata, rosario\n",
    "                - Can include neighborhoods, cities, or provinces\n",
    "\n",
    "                ---\n",
    "\n",
    "                ### Optional Filters (include only if user provides relevant info):\n",
    "                4. **Rooms (ambientes)**\n",
    "                - e.g., 1-ambiente, 2-ambientes, mas-de-3-ambientes, desde-2-hasta-3-ambientes\n",
    "\n",
    "                5. **Bedrooms (habitaciones)**\n",
    "                - e.g., 1-habitacion, hasta-3-habitaciones, desde-2-hasta-3-habitaciones\n",
    "\n",
    "                6. **Bathrooms (baños)**\n",
    "                - e.g., 2-banos, mas-de-1-bano, desde-1-hasta-2-banos\n",
    "\n",
    "                7. **Garages**\n",
    "                - e.g., 1-garage, sin-garages, mas-de-1-garage, desde-1-hasta-2-garages\n",
    "\n",
    "                8. **Price**\n",
    "                - e.g., menos-200000-dolares, mas-de-100000-pesos, desde-100000-hasta-300000-dolares\n",
    "\n",
    "                9. **Age**\n",
    "                - e.g., a-estrenar, hasta-10-anos, mas-de-20-anos\n",
    "\n",
    "                10. **Sorting**\n",
    "                - orden-precio-ascendente\n",
    "                - orden-publicacion-descendente\n",
    "\n",
    "                11. **Publication Date**\n",
    "                - publicado-hoy\n",
    "                - publicado-hace-menos-de-1-semana\n",
    "                - publicado-hace-menos-de-1-mes\n",
    "\n",
    "                ---\n",
    "\n",
    "                ### Rules & Behavior\n",
    "                - All terms in the URL must be lowercase and hyphen-separated.\n",
    "                - If key info is missing, **infer as a real estate agent would** or omit the filter.\n",
    "                - **Always include** property type, operation, and location.\n",
    "                - **Only output the URL.**\n",
    "            \"\"\"\n",
    "        },\n",
    "        {\n",
    "            \"role\": \"user\",\n",
    "            \"content\": last_message.content\n",
    "        }\n",
    "    ])\n",
    "    return {\"url\": result.url}\n",
    "\n",
    "\n",
    "# The first argument is the unique node name\n",
    "# The second argument is the function or object that will be called whenever\n",
    "# the node is used.\n",
    "graph_builder.add_node(\"url_agent\", url_agent)\n",
    "graph_builder.add_edge(START, \"url_agent\")\n",
    "graph_builder.add_edge(\"url_agent\", END)\n",
    "\n",
    "\n",
    "graph = graph_builder.compile()\n",
    "\n",
    "user_input = input(\"Enter a message: \")\n",
    "state = graph.invoke({\"query\": [HumanMessage(content=user_input)]})\n",
    "\n",
    "print(state[\"url\"])"
   ]
  }
 ],
 "metadata": {
  "kernelspec": {
   "display_name": ".venv",
   "language": "python",
   "name": "python3"
  },
  "language_info": {
   "codemirror_mode": {
    "name": "ipython",
    "version": 3
   },
   "file_extension": ".py",
   "mimetype": "text/x-python",
   "name": "python",
   "nbconvert_exporter": "python",
   "pygments_lexer": "ipython3",
   "version": "3.13.3"
  }
 },
 "nbformat": 4,
 "nbformat_minor": 5
}
