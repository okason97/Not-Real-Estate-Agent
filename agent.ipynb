{
 "cells": [
  {
   "cell_type": "code",
   "execution_count": null,
   "id": "7d6aa087",
   "metadata": {},
   "outputs": [
    {
     "name": "stdout",
     "output_type": "stream",
     "text": [
      "quiero un depto en la plata para una persona moderno con cochera\n",
      "Accessing webpage with cURL: https://www.zonaprop.com.ar/departamentos-alquiler-la-plata-1-garage.html\n",
      "Successfully downloaded HTML (974562 characters) from https://www.zonaprop.com.ar/departamentos-alquiler-la-plata-1-garage.html\n"
     ]
    }
   ],
   "source": [
    "from langchain_core.messages import HumanMessage\n",
    "from app.src.graph import build_graph\n",
    "\n",
    "graph = build_graph(model='ollama', temperature=0.0)\n",
    "\n",
    "#user_input = input(\"Enter a message: \")\n",
    "user_input = \"quiero un depto en la plata para una persona moderno con cochera\"\n",
    "print(user_input)\n",
    "state = graph.invoke({\"query\": [HumanMessage(content=user_input)]})\n",
    "\n",
    "print(state[\"query\"][-1].content)"
   ]
  },
  {
   "cell_type": "code",
   "execution_count": null,
   "id": "9f4d2e43",
   "metadata": {},
   "outputs": [],
   "source": [
    "from app.src.state import save_state\n",
    "save_state(state)"
   ]
  },
  {
   "cell_type": "code",
   "execution_count": null,
   "id": "09c68f38",
   "metadata": {},
   "outputs": [],
   "source": [
    "from IPython.display import Image, display\n",
    "\n",
    "try:\n",
    "    display(Image(graph.get_graph().draw_mermaid_png()))\n",
    "except Exception:\n",
    "    # This requires some extra dependencies and is optional\n",
    "    pass"
   ]
  }
 ],
 "metadata": {
  "kernelspec": {
   "display_name": ".venv",
   "language": "python",
   "name": "python3"
  },
  "language_info": {
   "codemirror_mode": {
    "name": "ipython",
    "version": 3
   },
   "file_extension": ".py",
   "mimetype": "text/x-python",
   "name": "python",
   "nbconvert_exporter": "python",
   "pygments_lexer": "ipython3",
   "version": "3.13.3"
  }
 },
 "nbformat": 4,
 "nbformat_minor": 5
}
