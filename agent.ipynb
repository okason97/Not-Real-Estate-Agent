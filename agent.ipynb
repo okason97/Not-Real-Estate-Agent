{
 "cells": [
  {
   "cell_type": "code",
   "execution_count": null,
   "id": "7d6aa087",
   "metadata": {},
   "outputs": [
    {
     "name": "stdout",
     "output_type": "stream",
     "text": [
      "quiero un departamento en La Plata moderno para una persona con cochera. Que sea espacioso y en un lugar lindo de la ciudad. No quiero que cueste mas de 1 millon de pesos pero no necesito que sea el mas barato.\n",
      "Calling query data agent\n",
      "Received query data agent response\n",
      "Accessing webpage with cURL: https://www.zonaprop.com.ar/departamentos-alquiler-la-plata-2-ambientes-1-garage-menos-1000000-pesos-hasta-10-anos.html\n",
      "Successfully downloaded HTML (975276 characters) from https://www.zonaprop.com.ar/departamentos-alquiler-la-plata-2-ambientes-1-garage-menos-1000000-pesos-hasta-10-anos.html\n",
      "Calling analysis agent\n",
      "Received analysis agent response\n",
      "Calling recommendation agent\n",
      "Received recommendation agent response\n",
      "**Property Name:** Departamento en 16 e/ 45 y 46\n",
      "**URL:** https://www.zonaprop.com.ar/propiedades/clasificado/alclapin-alquiler-16-e-45-y-46-1-dormitorio-con-cochera-56215055.html\n",
      "**Match Score:** 9/10 Excelente coincidencia por ser moderno, espacioso y ubicado en zona premium con todas las comodidades solicitadas\n",
      "**Location Score:** 9/10 Ubicación céntrica privilegiada, cerca de amenidades y en zona segura\n",
      "**Price Score:** 8/10 $674,000 total - Bien posicionado en el rango solicitado con excelente relación calidad-precio\n",
      "\n",
      "**Key Features:**\n",
      "• 53m² con diseño moderno y luminoso\n",
      "• Cocina separada equipada con bajo y sobre mesada\n",
      "• Cochera cubierta con portón automatizado\n",
      "\n",
      "**Considerations:**\n",
      "• Expensas relativamente altas ($74,000)\n",
      "• Un solo baño\n",
      "\n",
      "---\n",
      "\n",
      "**Property Name:** Departamento en Avenida 44 e/ 11 y 12\n",
      "**URL:** https://www.zonaprop.com.ar/propiedades/clasificado/alclapin-departamento-en-alquiler-1-dormitorio-1-bano-55835960.html\n",
      "**Match Score:** 8/10 Muy buena opción con amenities modernos y excelente distribución\n",
      "**Location Score:** 8/10 Buena ubicación sobre avenida principal, aunque puede ser ruidosa\n",
      "**Price Score:** 7/10 $780,000 total - Cerca del límite superior pero justificado por las prestaciones\n",
      "\n",
      "**Key Features:**\n",
      "• 45m² con balcón y piso alto\n",
      "• Terraza compartida con parrilla y juegos infantiles\n",
      "• Cocina equipada y aire acondicionado\n",
      "\n",
      "**Considerations:**\n",
      "• Ubicación sobre avenida puede ser ruidosa\n",
      "• Expensas de $30,000\n",
      "\n",
      "---\n",
      "\n",
      "**Property Name:** Departamento en calle 13\n",
      "**URL:** https://www.zonaprop.com.ar/propiedades/clasificado/alclapin-13-61-y-62-amplio-de-categoria-dos-balcones-55751625.html\n",
      "**Match Score:** 8/10 Excelente calidad constructiva y detalles de categoría\n",
      "**Location Score:** 8/10 Zona residencial tranquila y bien conectada\n",
      "**Price Score:** 7/10 $730,000 total - Precio acorde a la calidad premium del edificio\n",
      "\n",
      "**Key Features:**\n",
      "• 56m² con dos balcones y pisos de parquet\n",
      "• Aires acondicionados nuevos frío/calor\n",
      "• Cocina separada con pasaplatos y muebles de madera lustrada\n",
      "\n",
      "**Considerations:**\n",
      "• Expensas altas ($130,000)\n",
      "• Precio cerca del límite superior del presupuesto\n"
     ]
    }
   ],
   "source": [
    "from langchain_core.messages import HumanMessage\n",
    "from app.src.graph import build_graph\n",
    "\n",
    "graph = build_graph(model='anthropic', temperature=0.0)\n",
    "\n",
    "#user_input = input(\"Enter a message: \")\n",
    "user_input = \"quiero un departamento en La Plata moderno para una persona con cochera. Que sea espacioso y en un lugar lindo de la ciudad. No quiero que cueste mas de 1 millon de pesos pero no necesito que sea el mas barato.\"\n",
    "print(user_input)\n",
    "state = graph.invoke({\"query\": [HumanMessage(content=user_input)]})\n",
    "\n",
    "print(state[\"query\"][-1].content)"
   ]
  },
  {
   "cell_type": "code",
   "execution_count": 2,
   "id": "9f4d2e43",
   "metadata": {},
   "outputs": [
    {
     "name": "stdout",
     "output_type": "stream",
     "text": [
      "String successfully saved to 'analysis.md'\n",
      "String successfully saved to 'result.md'\n"
     ]
    }
   ],
   "source": [
    "from app.src.state import save_state\n",
    "save_state(state)"
   ]
  },
  {
   "cell_type": "code",
   "execution_count": null,
   "id": "09c68f38",
   "metadata": {},
   "outputs": [],
   "source": [
    "from IPython.display import Image, display\n",
    "\n",
    "try:\n",
    "    display(Image(graph.get_graph().draw_mermaid_png()))\n",
    "except Exception:\n",
    "    # This requires some extra dependencies and is optional\n",
    "    pass"
   ]
  }
 ],
 "metadata": {
  "kernelspec": {
   "display_name": ".venv",
   "language": "python",
   "name": "python3"
  },
  "language_info": {
   "codemirror_mode": {
    "name": "ipython",
    "version": 3
   },
   "file_extension": ".py",
   "mimetype": "text/x-python",
   "name": "python",
   "nbconvert_exporter": "python",
   "pygments_lexer": "ipython3",
   "version": "3.13.3"
  }
 },
 "nbformat": 4,
 "nbformat_minor": 5
}
