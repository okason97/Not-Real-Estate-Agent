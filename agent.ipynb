{
 "cells": [
  {
   "cell_type": "code",
   "execution_count": 1,
   "id": "7d6aa087",
   "metadata": {},
   "outputs": [
    {
     "name": "stdout",
     "output_type": "stream",
     "text": [
      "quiero un departamento en La Plata moderno para una persona con cochera. Que sea espacioso y en un lugar lindo de la ciudad. No quiero que cueste mas de 1 millon de pesos pero no necesito que sea el mas barato.\n",
      "Calling query data agent\n",
      "Received query data agent response\n",
      "Accessing webpage with cURL: https://www.zonaprop.com.ar/departamentos-alquiler-la-plata-1-garage-menos-1000000-pesos.html\n",
      "Successfully downloaded HTML (973175 characters) from https://www.zonaprop.com.ar/departamentos-alquiler-la-plata-1-garage-menos-1000000-pesos.html\n",
      "Calling analysis agent\n",
      "Received analysis agent response\n",
      "Calling recommendation agent\n",
      "Received recommendation agent response\n",
      "Okay, based on your requirements (modern, spacious, La Plata, one person, garage, nice location, budget up to 1 million pesos, not the absolute cheapest), here's a breakdown of the most suitable options from the provided listings, along with explanations.  I'm prioritizing \"modern\" as a design aesthetic and a sense of recent updates.\n",
      "\n",
      "**Top Recommendations (Based on the Listings):**\n",
      "\n",
      "1.  **Listing ID: 56002090 (Av. 25, near Parque Castelli)**\n",
      "    *   **Why it fits:** This is the strongest contender.\n",
      "        *   **Modern Feel:**  The description highlights \"modern\" design elements: porcelain floors, aluminum enclosures with double-laminated glass, and split-system heating/cooling.  The \"semi-floor\" design is often associated with a more contemporary feel.\n",
      "        *   **Spacious:** 63 m2 is a decent size for a single person.\n",
      "        *   **Nice Location:** Near Parque Castelli is a highly desirable and beautiful area of La Plata.\n",
      "        *   **Garage:** Includes a garage.\n",
      "        *   **Price:** Rent is 720,000 + 150,000 (expenses) = 870,000 pesos, well within your budget.\n",
      "    *   **Potential Drawbacks:**  It's a semi-floor, which might not be everyone's preference.\n",
      "\n",
      "2.  **Listing ID: 56057418 (C 68 2150, Los Hornos)**\n",
      "    *   **Why it fits:**\n",
      "        *   **Modern Feel:** The description mentions recent updates and design elements.\n",
      "        *   **Spacious:** 90 m2 is very spacious.\n",
      "        *   **Garage:** Includes a garage.\n",
      "        *   **Price:** Rent is 450,000 pesos, well within your budget.\n",
      "    *   **Potential Drawbacks:** Los Hornos is a bit further from the city center.\n",
      "\n",
      "**Other Considerations (Less Ideal, but Possible):**\n",
      "\n",
      "*   **Listing ID: 55854095 (6 y 62, La Plata):**  This one is a good size (75 m2) and has a garage. The description mentions \"balcony\" and \"built-in closet.\" The price is 600,000 + 160,000 (expenses) = 760,000 pesos. However, the description doesn't strongly emphasize a \"modern\" feel.\n",
      "*   **Listing ID: 55942526 (60 e/ 9 y 10, La Plata):** Similar to the previous one, it's a decent size (65 m2) with a garage and a balcony. The price is 650,000 pesos.  Again, the \"modern\" aspect isn't highlighted.\n",
      "\n",
      "**Summary Table:**\n",
      "\n",
      "| Listing ID | Size (m2) | Rent (Pesos) | Garage | Modern Feel | Location |\n",
      "|---|---|---|---|---|---|\n",
      "| 56002090 | 63 | 720,000 + 150,000 | Yes | Strong | Parque Castelli Area |\n",
      "| 56057418 | 90 | 450,000 | Yes | Moderate | Los Hornos |\n",
      "| 55854095 | 75 | 600,000 + 160,000 | Yes | Moderate | La Plata |\n",
      "| 55942526 | 65 | 650,000 | Yes | Moderate | La Plata |\n",
      "\n",
      "**Recommendation:**\n",
      "\n",
      "I strongly suggest you prioritize **Listing ID: 56002090**. It best aligns with all your criteria, especially the desire for a modern feel and a desirable location.  If you're open to a slightly less central location, **Listing ID: 56057418** is a great option due to its spaciousness and affordability.\n",
      "\n",
      "**Important Notes:**\n",
      "\n",
      "*   **\"Modern\" is Subjective:**  The descriptions use the term \"modern,\" but it's important to see the properties in person to assess if they truly meet your aesthetic preferences.\n",
      "*   **Expenses:** Remember to factor in the \"expenses\" (expenses) listed in addition to the rent.\n",
      "*   **Availability:**  These listings are from a snapshot in time. Confirm availability with the contact person.\n",
      "\n",
      "\n",
      "\n",
      "To help me refine my recommendations further, could you tell me:\n",
      "\n",
      "*   What does \"modern\" mean to you in terms of design? (e.g., minimalist, updated appliances, open floor plan, specific materials?)\n",
      "*   Are there any specific neighborhoods in La Plata you prefer?\n"
     ]
    }
   ],
   "source": [
    "from langchain_core.messages import HumanMessage\n",
    "from app.src.graph import build_graph\n",
    "\n",
    "graph = build_graph(model='ollama', temperature=0.0)\n",
    "\n",
    "#user_input = input(\"Enter a message: \")\n",
    "user_input = \"quiero un departamento en La Plata moderno para una persona con cochera. Que sea espacioso y en un lugar lindo de la ciudad. No quiero que cueste mas de 1 millon de pesos pero no necesito que sea el mas barato.\"\n",
    "print(user_input)\n",
    "state = graph.invoke({\"query\": [HumanMessage(content=user_input)]})\n",
    "\n",
    "print(state[\"query\"][-1].content)"
   ]
  },
  {
   "cell_type": "code",
   "execution_count": 2,
   "id": "9f4d2e43",
   "metadata": {},
   "outputs": [
    {
     "name": "stdout",
     "output_type": "stream",
     "text": [
      "String successfully saved to 'analysis.md'\n",
      "String successfully saved to 'result.md'\n"
     ]
    }
   ],
   "source": [
    "from app.src.state import save_state\n",
    "save_state(state)"
   ]
  },
  {
   "cell_type": "code",
   "execution_count": null,
   "id": "09c68f38",
   "metadata": {},
   "outputs": [],
   "source": [
    "from IPython.display import Image, display\n",
    "\n",
    "try:\n",
    "    display(Image(graph.get_graph().draw_mermaid_png()))\n",
    "except Exception:\n",
    "    # This requires some extra dependencies and is optional\n",
    "    pass"
   ]
  }
 ],
 "metadata": {
  "kernelspec": {
   "display_name": ".venv",
   "language": "python",
   "name": "python3"
  },
  "language_info": {
   "codemirror_mode": {
    "name": "ipython",
    "version": 3
   },
   "file_extension": ".py",
   "mimetype": "text/x-python",
   "name": "python",
   "nbconvert_exporter": "python",
   "pygments_lexer": "ipython3",
   "version": "3.13.3"
  }
 },
 "nbformat": 4,
 "nbformat_minor": 5
}
